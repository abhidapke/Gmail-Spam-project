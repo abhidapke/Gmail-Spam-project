{
 "cells": [
  {
   "cell_type": "code",
   "execution_count": 3,
   "id": "5b977cfb",
   "metadata": {},
   "outputs": [
    {
     "ename": "SyntaxError",
     "evalue": "invalid syntax (251559952.py, line 4)",
     "output_type": "error",
     "traceback": [
      "\u001b[1;36m  Input \u001b[1;32mIn [3]\u001b[1;36m\u001b[0m\n\u001b[1;33m    credentials:\u001b[0m\n\u001b[1;37m                ^\u001b[0m\n\u001b[1;31mSyntaxError\u001b[0m\u001b[1;31m:\u001b[0m invalid syntax\n"
     ]
    }
   ],
   "source": [
    "# Gmail Spam Detection Configuration\n",
    "\n",
    "# Gmail API credentials\n",
    "credentials:\n",
    "    client_id: YOUR_CLIENT_ID\n",
    "        client_secret: YOUR_CLIENT_SECRET\n",
    "            redirect_uris:\n",
    "                - https://localhost:8080/auth/callback\n",
    "                        token: token.json\n",
    "\n",
    "# Gmail account settings\n",
    "account:\n",
    "    email: abhidapke5757@gmail.com\n",
    "        labels:\n",
    "            inbox: INBOX\n",
    "                spam: SPAM\n",
    "\n",
    "\n",
    "# Features configuration\n",
    "features:\n",
    "    - subject\n",
    "    - sender\n",
    "    - body\n",
    "    - attachments\n",
    "    - headers\n",
    "\n",
    "# Thresholds\n",
    "thresholds:\n",
    "    spam_probability: 0.7\n",
    "\n",
    "# Logging configuration\n",
    "logging:\n",
    "    level: INFO\n",
    "        file: spam_detection.log\n"
   ]
  },
  {
   "cell_type": "code",
   "execution_count": null,
   "id": "858cf0d6",
   "metadata": {},
   "outputs": [],
   "source": []
  },
  {
   "cell_type": "code",
   "execution_count": null,
   "id": "622f8d14",
   "metadata": {},
   "outputs": [],
   "source": []
  }
 ],
 "metadata": {
  "kernelspec": {
   "display_name": "Python 3 (ipykernel)",
   "language": "python",
   "name": "python3"
  },
  "language_info": {
   "codemirror_mode": {
    "name": "ipython",
    "version": 3
   },
   "file_extension": ".py",
   "mimetype": "text/x-python",
   "name": "python",
   "nbconvert_exporter": "python",
   "pygments_lexer": "ipython3",
   "version": "3.9.12"
  }
 },
 "nbformat": 4,
 "nbformat_minor": 5
}
