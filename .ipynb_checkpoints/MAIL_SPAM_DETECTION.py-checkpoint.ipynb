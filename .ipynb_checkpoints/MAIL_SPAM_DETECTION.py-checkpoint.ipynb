{
 "cells": [
  {
   "cell_type": "markdown",
   "id": "486f34b9",
   "metadata": {},
   "source": [
    "# NECCESSORY LIBRARIES"
   ]
  },
  {
   "cell_type": "code",
   "execution_count": 3,
   "id": "115d7ec2",
   "metadata": {},
   "outputs": [],
   "source": [
    "import pandas as pd\n",
    "import numpy as np\n",
    "from sklearn.feature_extraction.text import TfidfVectorizer\n",
    "from sklearn.model_selection import train_test_split\n",
    "from sklearn.linear_model import LogisticRegression\n",
    "from sklearn.metrics import accuracy_score\n"
   ]
  },
  {
   "cell_type": "markdown",
   "id": "42d5b62a",
   "metadata": {},
   "source": [
    "### IMPORTDATA"
   ]
  },
  {
   "cell_type": "code",
   "execution_count": 7,
   "id": "d4cf0b2b",
   "metadata": {},
   "outputs": [],
   "source": [
    "raw_data = pd.read_csv(\"mail_data.csv\")"
   ]
  },
  {
   "cell_type": "code",
   "execution_count": 8,
   "id": "ba8ed4d8",
   "metadata": {},
   "outputs": [
    {
     "data": {
      "text/plain": [
       "<bound method NDFrame.head of      Category                                            Message\n",
       "0         ham  Go until jurong point, crazy.. Available only ...\n",
       "1         ham                      Ok lar... Joking wif u oni...\n",
       "2        spam  Free entry in 2 a wkly comp to win FA Cup fina...\n",
       "3         ham  U dun say so early hor... U c already then say...\n",
       "4         ham  Nah I don't think he goes to usf, he lives aro...\n",
       "...       ...                                                ...\n",
       "5567     spam  This is the 2nd time we have tried 2 contact u...\n",
       "5568      ham               Will ü b going to esplanade fr home?\n",
       "5569      ham  Pity, * was in mood for that. So...any other s...\n",
       "5570      ham  The guy did some bitching but I acted like i'd...\n",
       "5571      ham                         Rofl. Its true to its name\n",
       "\n",
       "[5572 rows x 2 columns]>"
      ]
     },
     "execution_count": 8,
     "metadata": {},
     "output_type": "execute_result"
    }
   ],
   "source": [
    "raw_data.head"
   ]
  },
  {
   "cell_type": "markdown",
   "id": "0bf260eb",
   "metadata": {},
   "source": [
    "### REPLACE NULL VALUES WITH NULL STRINGS"
   ]
  },
  {
   "cell_type": "code",
   "execution_count": 9,
   "id": "d4e9a5dd",
   "metadata": {},
   "outputs": [],
   "source": [
    "mail_data = raw_data.where((pd.notnull(raw_data)),'')"
   ]
  },
  {
   "cell_type": "code",
   "execution_count": 10,
   "id": "03c846e8",
   "metadata": {},
   "outputs": [
    {
     "data": {
      "text/plain": [
       "(5572, 2)"
      ]
     },
     "execution_count": 10,
     "metadata": {},
     "output_type": "execute_result"
    }
   ],
   "source": [
    "mail_data.shape"
   ]
  },
  {
   "cell_type": "markdown",
   "id": "4add1593",
   "metadata": {},
   "source": [
    "### LABLE ENCODING"
   ]
  },
  {
   "cell_type": "markdown",
   "id": "d5040f83",
   "metadata": {},
   "source": [
    "### SPAM = 0 & HAM = 1"
   ]
  },
  {
   "cell_type": "code",
   "execution_count": 11,
   "id": "cc51eab5",
   "metadata": {},
   "outputs": [],
   "source": [
    "mail_data.loc[mail_data['Category'] == 'spam', 'Category',] = 0\n",
    "mail_data.loc[mail_data['Category'] == 'ham', 'Category',] = 1"
   ]
  },
  {
   "cell_type": "code",
   "execution_count": 12,
   "id": "d7e33967",
   "metadata": {},
   "outputs": [
    {
     "data": {
      "text/plain": [
       "<bound method NDFrame.head of      Category                                            Message\n",
       "0           1  Go until jurong point, crazy.. Available only ...\n",
       "1           1                      Ok lar... Joking wif u oni...\n",
       "2           0  Free entry in 2 a wkly comp to win FA Cup fina...\n",
       "3           1  U dun say so early hor... U c already then say...\n",
       "4           1  Nah I don't think he goes to usf, he lives aro...\n",
       "...       ...                                                ...\n",
       "5567        0  This is the 2nd time we have tried 2 contact u...\n",
       "5568        1               Will ü b going to esplanade fr home?\n",
       "5569        1  Pity, * was in mood for that. So...any other s...\n",
       "5570        1  The guy did some bitching but I acted like i'd...\n",
       "5571        1                         Rofl. Its true to its name\n",
       "\n",
       "[5572 rows x 2 columns]>"
      ]
     },
     "execution_count": 12,
     "metadata": {},
     "output_type": "execute_result"
    }
   ],
   "source": [
    "mail_data.head"
   ]
  },
  {
   "cell_type": "markdown",
   "id": "569f0c1d",
   "metadata": {},
   "source": [
    "### SEPARATING THE DATA AS TEXT & LABELS"
   ]
  },
  {
   "cell_type": "code",
   "execution_count": 13,
   "id": "4838c05f",
   "metadata": {},
   "outputs": [],
   "source": [
    "x = mail_data[\"Message\"]\n",
    "y = mail_data[\"Category\"]"
   ]
  },
  {
   "cell_type": "code",
   "execution_count": 14,
   "id": "9108d38e",
   "metadata": {},
   "outputs": [
    {
     "name": "stdout",
     "output_type": "stream",
     "text": [
      "0       Go until jurong point, crazy.. Available only ...\n",
      "1                           Ok lar... Joking wif u oni...\n",
      "2       Free entry in 2 a wkly comp to win FA Cup fina...\n",
      "3       U dun say so early hor... U c already then say...\n",
      "4       Nah I don't think he goes to usf, he lives aro...\n",
      "                              ...                        \n",
      "5567    This is the 2nd time we have tried 2 contact u...\n",
      "5568                 Will ü b going to esplanade fr home?\n",
      "5569    Pity, * was in mood for that. So...any other s...\n",
      "5570    The guy did some bitching but I acted like i'd...\n",
      "5571                           Rofl. Its true to its name\n",
      "Name: Message, Length: 5572, dtype: object\n"
     ]
    }
   ],
   "source": [
    "print(x)"
   ]
  },
  {
   "cell_type": "code",
   "execution_count": 15,
   "id": "f45af7b1",
   "metadata": {},
   "outputs": [
    {
     "name": "stdout",
     "output_type": "stream",
     "text": [
      "0       1\n",
      "1       1\n",
      "2       0\n",
      "3       1\n",
      "4       1\n",
      "       ..\n",
      "5567    0\n",
      "5568    1\n",
      "5569    1\n",
      "5570    1\n",
      "5571    1\n",
      "Name: Category, Length: 5572, dtype: object\n"
     ]
    }
   ],
   "source": [
    "print(y)"
   ]
  },
  {
   "cell_type": "markdown",
   "id": "59d863c1",
   "metadata": {},
   "source": [
    "### SPLITING THE DATA"
   ]
  },
  {
   "cell_type": "code",
   "execution_count": 16,
   "id": "c64911c1",
   "metadata": {},
   "outputs": [],
   "source": [
    "x_train, x_test, y_train, y_test= train_test_split(x, y, test_size =0.2, random_state =3)"
   ]
  },
  {
   "cell_type": "code",
   "execution_count": 17,
   "id": "bd5a3a88",
   "metadata": {},
   "outputs": [
    {
     "name": "stdout",
     "output_type": "stream",
     "text": [
      "(4457,)\n",
      "(1115,)\n"
     ]
    }
   ],
   "source": [
    "print(x_train.shape)\n",
    "print(x_test.shape)"
   ]
  },
  {
   "cell_type": "markdown",
   "id": "3d1c183d",
   "metadata": {},
   "source": [
    "### FEATURE EXTRACTION"
   ]
  },
  {
   "cell_type": "markdown",
   "id": "b045086f",
   "metadata": {},
   "source": [
    "#### TRANASFORM THE TEXT DATA INTO FEATURE VECTOR"
   ]
  },
  {
   "cell_type": "code",
   "execution_count": 18,
   "id": "7eda5f33",
   "metadata": {},
   "outputs": [],
   "source": [
    "feature_extraction = TfidfVectorizer(min_df = 1, stop_words = \"english\", lowercase= 'True')\n",
    "x_train_features =  feature_extraction.fit_transform(x_train)\n",
    "x_test_features =  feature_extraction.transform(x_test)"
   ]
  },
  {
   "cell_type": "markdown",
   "id": "c44b368d",
   "metadata": {},
   "source": [
    "#### CONVERT Y_TEST & Y_TRAIN VALUES IN INTEGERS"
   ]
  },
  {
   "cell_type": "code",
   "execution_count": 19,
   "id": "a16b82fe",
   "metadata": {},
   "outputs": [],
   "source": [
    "y_train = y_train.astype('int')\n",
    "y_test = y_test.astype('int')"
   ]
  },
  {
   "cell_type": "markdown",
   "id": "5b77701d",
   "metadata": {},
   "source": [
    "## TRAINIG THE MODEL"
   ]
  },
  {
   "cell_type": "code",
   "execution_count": 20,
   "id": "5fa9f8e6",
   "metadata": {},
   "outputs": [],
   "source": [
    "model = LogisticRegression()"
   ]
  },
  {
   "cell_type": "markdown",
   "id": "e45f2896",
   "metadata": {},
   "source": [
    "### TRAINING THE MODEL WITH TRAIRNING DATA"
   ]
  },
  {
   "cell_type": "code",
   "execution_count": 21,
   "id": "ba1304b4",
   "metadata": {},
   "outputs": [
    {
     "data": {
      "text/plain": [
       "LogisticRegression()"
      ]
     },
     "execution_count": 21,
     "metadata": {},
     "output_type": "execute_result"
    }
   ],
   "source": [
    "model.fit(x_train_features, y_train)"
   ]
  },
  {
   "cell_type": "markdown",
   "id": "7c62dedc",
   "metadata": {},
   "source": [
    "### EVALUATING THE TRAINIG MODEL"
   ]
  },
  {
   "cell_type": "markdown",
   "id": "dece9c34",
   "metadata": {},
   "source": [
    "#### PREDICTION ON TRAINING DATA"
   ]
  },
  {
   "cell_type": "code",
   "execution_count": 22,
   "id": "54b3d1f2",
   "metadata": {},
   "outputs": [],
   "source": [
    "prediction_on_training_data = model.predict(x_train_features)\n",
    "accuracy_on_training_data = accuracy_score(y_train, prediction_on_training_data)"
   ]
  },
  {
   "cell_type": "code",
   "execution_count": 23,
   "id": "6e1e690d",
   "metadata": {},
   "outputs": [
    {
     "name": "stdout",
     "output_type": "stream",
     "text": [
      "Accuracy on training data :  0.9670181736594121\n"
     ]
    }
   ],
   "source": [
    "print(\"Accuracy on training data : \", accuracy_on_training_data)"
   ]
  },
  {
   "cell_type": "markdown",
   "id": "a16b95b5",
   "metadata": {},
   "source": [
    "#### PREDICTION ON TRAINING DATA"
   ]
  },
  {
   "cell_type": "code",
   "execution_count": 24,
   "id": "cf82b623",
   "metadata": {},
   "outputs": [],
   "source": [
    "prediction_on_test_data = model.predict(x_test_features)\n",
    "accuracy_on_test_data = accuracy_score(y_test, prediction_on_test_data)\n",
    " "
   ]
  },
  {
   "cell_type": "code",
   "execution_count": 25,
   "id": "a04b3c81",
   "metadata": {},
   "outputs": [
    {
     "name": "stdout",
     "output_type": "stream",
     "text": [
      "Accuracy on test data :  0.9659192825112107\n"
     ]
    }
   ],
   "source": [
    "print(\"Accuracy on test data : \", accuracy_on_test_data)"
   ]
  },
  {
   "cell_type": "markdown",
   "id": "e39ae44f",
   "metadata": {},
   "source": [
    "# BUILDING THE PREDICTIVE SYSYTEM\n"
   ]
  },
  {
   "cell_type": "code",
   "execution_count": 26,
   "id": "3b6f61d1",
   "metadata": {},
   "outputs": [],
   "source": [
    "input_mail = [\"\"]"
   ]
  },
  {
   "cell_type": "markdown",
   "id": "a45c772e",
   "metadata": {},
   "source": [
    "#### CONVERT THE TEXT TO FEACTURE VECTORE"
   ]
  },
  {
   "cell_type": "code",
   "execution_count": 27,
   "id": "11d078d7",
   "metadata": {},
   "outputs": [],
   "source": [
    "input_data_feature = feature_extraction.transform(input_mail)"
   ]
  },
  {
   "cell_type": "markdown",
   "id": "5f3f06c1",
   "metadata": {},
   "source": [
    "#### MAKING PREDICTION"
   ]
  },
  {
   "cell_type": "code",
   "execution_count": 28,
   "id": "f127d16b",
   "metadata": {},
   "outputs": [
    {
     "name": "stdout",
     "output_type": "stream",
     "text": [
      "[1]\n"
     ]
    }
   ],
   "source": [
    "prediction = model.predict(input_data_feature)\n",
    "print(prediction)\n"
   ]
  },
  {
   "cell_type": "code",
   "execution_count": 29,
   "id": "8dfe272d",
   "metadata": {},
   "outputs": [
    {
     "name": "stdout",
     "output_type": "stream",
     "text": [
      "Ham mail\n"
     ]
    }
   ],
   "source": [
    "if (prediction[0]==1):\n",
    "    print(\"Ham mail\")\n",
    "\n",
    "else:\n",
    "    print(\"Spam mail\")"
   ]
  }
 ],
 "metadata": {
  "kernelspec": {
   "display_name": "Python 3 (ipykernel)",
   "language": "python",
   "name": "python3"
  },
  "language_info": {
   "codemirror_mode": {
    "name": "ipython",
    "version": 3
   },
   "file_extension": ".py",
   "mimetype": "text/x-python",
   "name": "python",
   "nbconvert_exporter": "python",
   "pygments_lexer": "ipython3",
   "version": "3.9.12"
  }
 },
 "nbformat": 4,
 "nbformat_minor": 5
}
